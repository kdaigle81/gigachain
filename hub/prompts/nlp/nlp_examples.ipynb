{
 "cells": [
  {
   "cell_type": "markdown",
   "metadata": {},
   "source": [
    "# Шаблон для классификации обращений\n",
    "\n",
    "Перед работой с шаблоном инициализируйте GigaChat:"
   ]
  },
  {
   "cell_type": "code",
   "execution_count": null,
   "metadata": {},
   "outputs": [],
   "source": [
    "from langchain.prompts import load_prompt\n",
    "from langchain_gigachat import GigaChat\n",
    "\n",
    "giga = GigaChat(credentials=\"<авторизационные_данные>\")"
   ]
  },
  {
   "cell_type": "markdown",
   "metadata": {},
   "source": [
    "О том что такое авторизационные данные и как их получить читайте в разделе [Подключение API и получение авторизационных данных](https://developers.sber.ru/docs/ru/gigachat/api/integration).\n",
    "\n",
    "Для классификации обращений пользователей по категориям *Статус заказа*, *Возврат и обмен товаров*, *Характеристики продукта*, *Технические проблемы*, *Другое* используйте шаблон `spell_correction.yaml`.\n",
    "\n",
    "Для работы шаблона используется библиотека gigachat_core версии 0.1.9.1. и выше.\n",
    "Для установки библиотеки вручную используйте команду:\n",
    "\n",
    "```sh\n",
    "pip install -U gigachain_core\n",
    "```\n",
    "\n",
    "Шаблон содержит обязательную переменную `text` — обращений пользователя.\n",
    "\n",
    "Подключение и вызов шаблона:"
   ]
  },
  {
   "cell_type": "code",
   "execution_count": null,
   "metadata": {},
   "outputs": [],
   "source": [
    "prompt = load_prompt(\"classification.yaml\")\n",
    "chain = prompt | giga\n",
    "chain.invoke(\n",
    "    {\n",
    "        \"text\": \"При оформлении заказа возник вопрос о возможностях устройства. Помогите уточнить информацию, пожалуйста?\"\n",
    "    }\n",
    ").content"
   ]
  },
  {
   "cell_type": "markdown",
   "metadata": {},
   "source": [
    "# "
   ]
  }
 ],
 "metadata": {
  "kernelspec": {
   "display_name": "Python 3",
   "language": "python",
   "name": "python3"
  },
  "language_info": {
   "name": "python",
   "version": "3.11.6"
  }
 },
 "nbformat": 4,
 "nbformat_minor": 2
}
